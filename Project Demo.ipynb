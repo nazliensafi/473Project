{
 "cells": [
  {
   "cell_type": "code",
   "execution_count": 14,
   "id": "1b17ccd7",
   "metadata": {},
   "outputs": [],
   "source": [
    "import numpy as np\n",
    "from data import X_train, y_train, X_test, y_test\n",
    "from sklearn.preprocessing import StandardScaler\n",
    "from metrics import *\n",
    "from NB import *\n",
    "from NN import *\n",
    "from KMeans import *"
   ]
  },
  {
   "cell_type": "markdown",
   "id": "977ffc50",
   "metadata": {},
   "source": [
    "### 1. Naive Bayes Classifier\n",
    "#### initialize, train and test"
   ]
  },
  {
   "cell_type": "code",
   "execution_count": 5,
   "id": "09dbcc83",
   "metadata": {},
   "outputs": [],
   "source": [
    "nb = NaiveBayes()\n",
    "nb._init_(X_train, y_train)\n",
    "nb_pred = nb.predict(X_test.values)"
   ]
  },
  {
   "cell_type": "markdown",
   "id": "0e97aabf",
   "metadata": {},
   "source": [
    "#### Naive Bayes Classification Performance:"
   ]
  },
  {
   "cell_type": "code",
   "execution_count": 8,
   "id": "56388acb",
   "metadata": {},
   "outputs": [
    {
     "name": "stdout",
     "output_type": "stream",
     "text": [
      "Naive Bayes accuracy :   0.95\n",
      "Naive Bayes precision :   0.95\n",
      "Naive Bayes recall :   0.9\n",
      "Naive Bayes False Negative rate :   0.1\n",
      "Naive Bayes F1 :   0.93\n"
     ]
    }
   ],
   "source": [
    "print(\"Naive Bayes accuracy :  \", round(accuracy(y_test, nb_pred), 2))\n",
    "print(\"Naive Bayes precision :  \", round(precision(y_test, nb_pred), 2))\n",
    "print(\"Naive Bayes recall :  \", round(recall(y_test, nb_pred), 2))\n",
    "print(\"Naive Bayes False Negative rate :  \", round(fn_rate(recall(y_test, nb_pred)), 2))\n",
    "print(\"Naive Bayes F1 :  \", round(f1(y_test, nb_pred), 2))"
   ]
  },
  {
   "cell_type": "markdown",
   "id": "7fcc6d01",
   "metadata": {},
   "source": [
    "### 2. Multilayered Neural Network Classifier\n",
    "#### initialize, train and test"
   ]
  },
  {
   "cell_type": "code",
   "execution_count": 15,
   "id": "7d52c266",
   "metadata": {},
   "outputs": [
    {
     "name": "stdout",
     "output_type": "stream",
     "text": [
      "Epoch 1/100 => Train Accuracy: 97.233% - Train Loss: 0.379099 - Test Accuracy: 98.182% - Test Loss: 0.092122\n",
      "Epoch 2/100 => Train Accuracy: 98.211% - Train Loss: 0.099482 - Test Accuracy: 99.539% - Test Loss: 0.052431\n",
      "Epoch 3/100 => Train Accuracy: 98.406% - Train Loss: 0.079268 - Test Accuracy: 99.083% - Test Loss: 0.046935\n",
      "Epoch 4/100 => Train Accuracy: 98.60799999999999% - Train Loss: 0.067682 - Test Accuracy: 99.539% - Test Loss: 0.042778\n",
      "Epoch 5/100 => Train Accuracy: 98.80499999999999% - Train Loss: 0.061782 - Test Accuracy: 99.539% - Test Loss: 0.042676\n",
      "Epoch 6/100 => Train Accuracy: 99.002% - Train Loss: 0.056198 - Test Accuracy: 99.539% - Test Loss: 0.042268\n",
      "Epoch 7/100 => Train Accuracy: 99.002% - Train Loss: 0.051669 - Test Accuracy: 99.074% - Test Loss: 0.044902\n",
      "Epoch 8/100 => Train Accuracy: 99.002% - Train Loss: 0.047876 - Test Accuracy: 99.074% - Test Loss: 0.04756\n",
      "Epoch 9/100 => Train Accuracy: 99.002% - Train Loss: 0.044791 - Test Accuracy: 99.074% - Test Loss: 0.052454\n",
      "Epoch 10/100 => Train Accuracy: 99.203% - Train Loss: 0.04195 - Test Accuracy: 99.074% - Test Loss: 0.053719\n",
      "Epoch 11/100 => Train Accuracy: 99.401% - Train Loss: 0.038894 - Test Accuracy: 99.074% - Test Loss: 0.057942\n",
      "Epoch 12/100 => Train Accuracy: 99.401% - Train Loss: 0.036195 - Test Accuracy: 99.074% - Test Loss: 0.059844\n",
      "Epoch 13/100 => Train Accuracy: 99.401% - Train Loss: 0.033907 - Test Accuracy: 99.074% - Test Loss: 0.061255\n",
      "Epoch 14/100 => Train Accuracy: 99.401% - Train Loss: 0.031219 - Test Accuracy: 99.074% - Test Loss: 0.060643\n",
      "Epoch 15/100 => Train Accuracy: 99.401% - Train Loss: 0.029207 - Test Accuracy: 99.074% - Test Loss: 0.063985\n",
      "Epoch 16/100 => Train Accuracy: 99.401% - Train Loss: 0.026893 - Test Accuracy: 99.074% - Test Loss: 0.06247\n",
      "Epoch 17/100 => Train Accuracy: 99.401% - Train Loss: 0.025191 - Test Accuracy: 99.074% - Test Loss: 0.070577\n",
      "Epoch 18/100 => Train Accuracy: 99.401% - Train Loss: 0.023616 - Test Accuracy: 99.074% - Test Loss: 0.067448\n",
      "Epoch 19/100 => Train Accuracy: 99.401% - Train Loss: 0.022596 - Test Accuracy: 99.074% - Test Loss: 0.072273\n",
      "Epoch 20/100 => Train Accuracy: 99.401% - Train Loss: 0.02094 - Test Accuracy: 99.074% - Test Loss: 0.075103\n",
      "Epoch 21/100 => Train Accuracy: 99.401% - Train Loss: 0.019393 - Test Accuracy: 99.074% - Test Loss: 0.073589\n",
      "Epoch 22/100 => Train Accuracy: 99.401% - Train Loss: 0.018322 - Test Accuracy: 99.074% - Test Loss: 0.075912\n",
      "Epoch 23/100 => Train Accuracy: 99.401% - Train Loss: 0.017907 - Test Accuracy: 99.074% - Test Loss: 0.076065\n",
      "Epoch 24/100 => Train Accuracy: 99.401% - Train Loss: 0.01681 - Test Accuracy: 99.074% - Test Loss: 0.082212\n",
      "Epoch 25/100 => Train Accuracy: 99.6% - Train Loss: 0.015744 - Test Accuracy: 99.074% - Test Loss: 0.078646\n",
      "Epoch 26/100 => Train Accuracy: 99.6% - Train Loss: 0.014745 - Test Accuracy: 99.074% - Test Loss: 0.084474\n",
      "Epoch 27/100 => Train Accuracy: 99.6% - Train Loss: 0.014344 - Test Accuracy: 99.074% - Test Loss: 0.084876\n",
      "Epoch 28/100 => Train Accuracy: 99.6% - Train Loss: 0.013548 - Test Accuracy: 99.074% - Test Loss: 0.086532\n",
      "Epoch 29/100 => Train Accuracy: 99.8% - Train Loss: 0.012766 - Test Accuracy: 99.074% - Test Loss: 0.08819\n",
      "Epoch 30/100 => Train Accuracy: 99.8% - Train Loss: 0.012484 - Test Accuracy: 99.074% - Test Loss: 0.091683\n",
      "Epoch 31/100 => Train Accuracy: 99.8% - Train Loss: 0.011624 - Test Accuracy: 99.074% - Test Loss: 0.090202\n",
      "Epoch 32/100 => Train Accuracy: 99.8% - Train Loss: 0.010912 - Test Accuracy: 99.074% - Test Loss: 0.093132\n",
      "Epoch 33/100 => Train Accuracy: 99.8% - Train Loss: 0.010569 - Test Accuracy: 99.074% - Test Loss: 0.097048\n",
      "Epoch 34/100 => Train Accuracy: 100.0% - Train Loss: 0.010355 - Test Accuracy: 99.074% - Test Loss: 0.094299\n",
      "Epoch 35/100 => Train Accuracy: 99.8% - Train Loss: 0.009665 - Test Accuracy: 99.074% - Test Loss: 0.097832\n",
      "Epoch 36/100 => Train Accuracy: 100.0% - Train Loss: 0.009199 - Test Accuracy: 99.074% - Test Loss: 0.103321\n",
      "Epoch 37/100 => Train Accuracy: 100.0% - Train Loss: 0.009042 - Test Accuracy: 99.074% - Test Loss: 0.099032\n",
      "Epoch 38/100 => Train Accuracy: 100.0% - Train Loss: 0.008517 - Test Accuracy: 99.074% - Test Loss: 0.10101\n",
      "Epoch 39/100 => Train Accuracy: 100.0% - Train Loss: 0.008074 - Test Accuracy: 99.074% - Test Loss: 0.105572\n",
      "Epoch 40/100 => Train Accuracy: 100.0% - Train Loss: 0.007705 - Test Accuracy: 99.074% - Test Loss: 0.106837\n",
      "Epoch 41/100 => Train Accuracy: 100.0% - Train Loss: 0.007562 - Test Accuracy: 99.074% - Test Loss: 0.105745\n",
      "Epoch 42/100 => Train Accuracy: 100.0% - Train Loss: 0.007048 - Test Accuracy: 99.074% - Test Loss: 0.107375\n",
      "Epoch 43/100 => Train Accuracy: 100.0% - Train Loss: 0.006853 - Test Accuracy: 99.074% - Test Loss: 0.108671\n",
      "Epoch 44/100 => Train Accuracy: 100.0% - Train Loss: 0.006596 - Test Accuracy: 99.074% - Test Loss: 0.111562\n",
      "Epoch 45/100 => Train Accuracy: 100.0% - Train Loss: 0.006275 - Test Accuracy: 99.074% - Test Loss: 0.111203\n",
      "Epoch 46/100 => Train Accuracy: 100.0% - Train Loss: 0.00622 - Test Accuracy: 99.074% - Test Loss: 0.113146\n",
      "Epoch 47/100 => Train Accuracy: 100.0% - Train Loss: 0.005802 - Test Accuracy: 99.074% - Test Loss: 0.113041\n",
      "Epoch 48/100 => Train Accuracy: 100.0% - Train Loss: 0.005553 - Test Accuracy: 99.074% - Test Loss: 0.114838\n",
      "Epoch 49/100 => Train Accuracy: 100.0% - Train Loss: 0.005514 - Test Accuracy: 99.074% - Test Loss: 0.115103\n",
      "Epoch 50/100 => Train Accuracy: 100.0% - Train Loss: 0.005221 - Test Accuracy: 99.074% - Test Loss: 0.11687\n",
      "Epoch 51/100 => Train Accuracy: 100.0% - Train Loss: 0.005013 - Test Accuracy: 99.074% - Test Loss: 0.116758\n",
      "Epoch 52/100 => Train Accuracy: 100.0% - Train Loss: 0.004826 - Test Accuracy: 99.074% - Test Loss: 0.118824\n",
      "Epoch 53/100 => Train Accuracy: 100.0% - Train Loss: 0.004796 - Test Accuracy: 99.074% - Test Loss: 0.118853\n",
      "Epoch 54/100 => Train Accuracy: 100.0% - Train Loss: 0.004479 - Test Accuracy: 99.074% - Test Loss: 0.120006\n",
      "Epoch 55/100 => Train Accuracy: 100.0% - Train Loss: 0.004392 - Test Accuracy: 99.074% - Test Loss: 0.121786\n",
      "Epoch 56/100 => Train Accuracy: 100.0% - Train Loss: 0.00419 - Test Accuracy: 99.074% - Test Loss: 0.122946\n",
      "Epoch 57/100 => Train Accuracy: 100.0% - Train Loss: 0.004169 - Test Accuracy: 99.074% - Test Loss: 0.122535\n",
      "Epoch 58/100 => Train Accuracy: 100.0% - Train Loss: 0.003947 - Test Accuracy: 99.074% - Test Loss: 0.123969\n",
      "Epoch 59/100 => Train Accuracy: 100.0% - Train Loss: 0.003813 - Test Accuracy: 99.074% - Test Loss: 0.125435\n",
      "Epoch 60/100 => Train Accuracy: 100.0% - Train Loss: 0.003728 - Test Accuracy: 99.074% - Test Loss: 0.126887\n",
      "Epoch 61/100 => Train Accuracy: 100.0% - Train Loss: 0.003661 - Test Accuracy: 99.074% - Test Loss: 0.126904\n",
      "Epoch 62/100 => Train Accuracy: 100.0% - Train Loss: 0.003479 - Test Accuracy: 99.074% - Test Loss: 0.128145\n",
      "Epoch 63/100 => Train Accuracy: 100.0% - Train Loss: 0.003448 - Test Accuracy: 99.074% - Test Loss: 0.128174\n",
      "Epoch 64/100 => Train Accuracy: 100.0% - Train Loss: 0.003274 - Test Accuracy: 99.074% - Test Loss: 0.129384\n",
      "Epoch 65/100 => Train Accuracy: 100.0% - Train Loss: 0.0032 - Test Accuracy: 99.074% - Test Loss: 0.1309\n",
      "Epoch 66/100 => Train Accuracy: 100.0% - Train Loss: 0.003113 - Test Accuracy: 99.074% - Test Loss: 0.131599\n",
      "Epoch 67/100 => Train Accuracy: 100.0% - Train Loss: 0.003055 - Test Accuracy: 99.074% - Test Loss: 0.131676\n",
      "Epoch 68/100 => Train Accuracy: 100.0% - Train Loss: 0.002951 - Test Accuracy: 99.074% - Test Loss: 0.133138\n",
      "Epoch 69/100 => Train Accuracy: 100.0% - Train Loss: 0.002874 - Test Accuracy: 99.074% - Test Loss: 0.133332\n",
      "Epoch 70/100 => Train Accuracy: 100.0% - Train Loss: 0.002815 - Test Accuracy: 99.074% - Test Loss: 0.134837\n",
      "Epoch 71/100 => Train Accuracy: 100.0% - Train Loss: 0.002723 - Test Accuracy: 99.074% - Test Loss: 0.135736\n",
      "Epoch 72/100 => Train Accuracy: 100.0% - Train Loss: 0.002661 - Test Accuracy: 99.074% - Test Loss: 0.135096\n",
      "Epoch 73/100 => Train Accuracy: 100.0% - Train Loss: 0.002613 - Test Accuracy: 99.074% - Test Loss: 0.137038\n",
      "Epoch 74/100 => Train Accuracy: 100.0% - Train Loss: 0.00252 - Test Accuracy: 99.074% - Test Loss: 0.137647\n",
      "Epoch 75/100 => Train Accuracy: 100.0% - Train Loss: 0.002456 - Test Accuracy: 99.074% - Test Loss: 0.138577\n",
      "Epoch 76/100 => Train Accuracy: 100.0% - Train Loss: 0.002446 - Test Accuracy: 99.074% - Test Loss: 0.138334\n"
     ]
    },
    {
     "name": "stdout",
     "output_type": "stream",
     "text": [
      "Epoch 77/100 => Train Accuracy: 100.0% - Train Loss: 0.00235 - Test Accuracy: 99.074% - Test Loss: 0.139879\n",
      "Epoch 78/100 => Train Accuracy: 100.0% - Train Loss: 0.002289 - Test Accuracy: 99.074% - Test Loss: 0.140281\n",
      "Epoch 79/100 => Train Accuracy: 100.0% - Train Loss: 0.002263 - Test Accuracy: 99.074% - Test Loss: 0.141437\n",
      "Epoch 80/100 => Train Accuracy: 100.0% - Train Loss: 0.002226 - Test Accuracy: 99.074% - Test Loss: 0.141274\n",
      "Epoch 81/100 => Train Accuracy: 100.0% - Train Loss: 0.002148 - Test Accuracy: 99.074% - Test Loss: 0.142664\n",
      "Epoch 82/100 => Train Accuracy: 100.0% - Train Loss: 0.002122 - Test Accuracy: 99.074% - Test Loss: 0.143174\n",
      "Epoch 83/100 => Train Accuracy: 100.0% - Train Loss: 0.002066 - Test Accuracy: 99.074% - Test Loss: 0.144062\n",
      "Epoch 84/100 => Train Accuracy: 100.0% - Train Loss: 0.002026 - Test Accuracy: 99.074% - Test Loss: 0.145094\n",
      "Epoch 85/100 => Train Accuracy: 100.0% - Train Loss: 0.002013 - Test Accuracy: 99.074% - Test Loss: 0.145005\n",
      "Epoch 86/100 => Train Accuracy: 100.0% - Train Loss: 0.001931 - Test Accuracy: 99.074% - Test Loss: 0.145983\n",
      "Epoch 87/100 => Train Accuracy: 100.0% - Train Loss: 0.00192 - Test Accuracy: 99.074% - Test Loss: 0.146484\n",
      "Epoch 88/100 => Train Accuracy: 100.0% - Train Loss: 0.001871 - Test Accuracy: 99.074% - Test Loss: 0.147369\n",
      "Epoch 89/100 => Train Accuracy: 100.0% - Train Loss: 0.001847 - Test Accuracy: 99.074% - Test Loss: 0.148219\n",
      "Epoch 90/100 => Train Accuracy: 100.0% - Train Loss: 0.00181 - Test Accuracy: 99.074% - Test Loss: 0.148044\n",
      "Epoch 91/100 => Train Accuracy: 100.0% - Train Loss: 0.001769 - Test Accuracy: 99.074% - Test Loss: 0.149303\n",
      "Epoch 92/100 => Train Accuracy: 100.0% - Train Loss: 0.001735 - Test Accuracy: 99.074% - Test Loss: 0.149804\n",
      "Epoch 93/100 => Train Accuracy: 100.0% - Train Loss: 0.001702 - Test Accuracy: 99.074% - Test Loss: 0.150434\n",
      "Epoch 94/100 => Train Accuracy: 100.0% - Train Loss: 0.001684 - Test Accuracy: 99.074% - Test Loss: 0.151038\n",
      "Epoch 95/100 => Train Accuracy: 100.0% - Train Loss: 0.001645 - Test Accuracy: 99.074% - Test Loss: 0.151655\n",
      "Epoch 96/100 => Train Accuracy: 100.0% - Train Loss: 0.001646 - Test Accuracy: 98.605% - Test Loss: 0.15198\n",
      "Epoch 97/100 => Train Accuracy: 100.0% - Train Loss: 0.001581 - Test Accuracy: 99.074% - Test Loss: 0.152823\n",
      "Epoch 98/100 => Train Accuracy: 100.0% - Train Loss: 0.001569 - Test Accuracy: 99.074% - Test Loss: 0.153395\n",
      "Epoch 99/100 => Train Accuracy: 100.0% - Train Loss: 0.001549 - Test Accuracy: 99.074% - Test Loss: 0.15343\n",
      "Epoch 100/100 => Train Accuracy: 100.0% - Train Loss: 0.00151 - Test Accuracy: 99.074% - Test Loss: 0.154399\n"
     ]
    }
   ],
   "source": [
    "scaler = StandardScaler()\n",
    "X_train = scaler.fit_transform(X_train.values)\n",
    "X_test = scaler.fit_transform(X_test.values)\n",
    "input_nodes = X_train.shape[1]\n",
    "hidden_nodes = 32\n",
    "output_nodes = 2\n",
    "    \n",
    "nn = NeuralNetwork([input_nodes, hidden_nodes, output_nodes])\n",
    "\n",
    "nn.train(\n",
    "    X_train,\n",
    "    y_train,\n",
    "    X_test,\n",
    "    y_test,\n",
    "    batch_size=10,\n",
    "    epochs=100,\n",
    "    l_rate=0.2,\n",
    "    )\n",
    "\n",
    "pred_nn = nn.predict(X_test)"
   ]
  },
  {
   "cell_type": "markdown",
   "id": "4972471e",
   "metadata": {},
   "source": [
    "#### Multilayered Neural Network Classification Performance:"
   ]
  },
  {
   "cell_type": "code",
   "execution_count": 17,
   "id": "b4f2fea1",
   "metadata": {},
   "outputs": [
    {
     "name": "stdout",
     "output_type": "stream",
     "text": [
      "Multilayered Neural Network accuracy :   0.99\n",
      "Multilayered Neural Network precision :   0.99\n",
      "Multilayered Neural Network recall :   0.98\n",
      "Multilayered Neural Network False Negative rate :   0.02\n",
      "Multilayered Neural Network F1 :   0.99\n"
     ]
    }
   ],
   "source": [
    "print(\"Multilayered Neural Network accuracy :  \", round(accuracy(y_test, pred_nn), 2))\n",
    "print(\"Multilayered Neural Network precision :  \", round(precision(y_test, pred_nn), 2))\n",
    "print(\"Multilayered Neural Network recall :  \", round(recall(y_test, pred_nn), 2))\n",
    "print(\"Multilayered Neural Network False Negative rate :  \", round(fn_rate(recall(y_test, pred_nn)), 2))\n",
    "print(\"Multilayered Neural Network F1 :  \", round(f1(y_test, pred_nn), 2))"
   ]
  },
  {
   "cell_type": "markdown",
   "id": "ce0856de",
   "metadata": {},
   "source": [
    "### 3. K-Means Classifier\n",
    "#### initialize, train and test"
   ]
  },
  {
   "cell_type": "code",
   "execution_count": null,
   "id": "59e77a22",
   "metadata": {},
   "outputs": [],
   "source": [
    "#initialize the classifier\n",
    "#train it using X_train, y_train\n",
    "# define pred_km using X_test"
   ]
  },
  {
   "cell_type": "markdown",
   "id": "cc2106aa",
   "metadata": {},
   "source": [
    "#### K-Means Classification Performance:"
   ]
  },
  {
   "cell_type": "code",
   "execution_count": null,
   "id": "ecfc4713",
   "metadata": {},
   "outputs": [],
   "source": [
    "print(\"K-Means accuracy :  \", round(accuracy(y_test, pred_km), 2))\n",
    "print(\"K-Means precision :  \", round(precision(y_test, pred_km), 2))\n",
    "print(\"K-Means recall :  \", round(recall(y_test, pred_km), 2))\n",
    "print(\"K-Means False Negative rate :  \", round(fn_rate(recall(y_test, pred_km)), 2))\n",
    "print(\"K-Means F1 :  \", round(f1(y_test, pred_km), 2))"
   ]
  }
 ],
 "metadata": {
  "kernelspec": {
   "display_name": "Python 3 (ipykernel)",
   "language": "python",
   "name": "python3"
  },
  "language_info": {
   "codemirror_mode": {
    "name": "ipython",
    "version": 3
   },
   "file_extension": ".py",
   "mimetype": "text/x-python",
   "name": "python",
   "nbconvert_exporter": "python",
   "pygments_lexer": "ipython3",
   "version": "3.9.5"
  }
 },
 "nbformat": 4,
 "nbformat_minor": 5
}
